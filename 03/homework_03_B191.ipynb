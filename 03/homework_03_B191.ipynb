{
 "cells": [
  {
   "cell_type": "markdown",
   "metadata": {},
   "source": [
    "# Úkol č. 3 - Segmentace zákazníků e-shopu (do 29. listopadu)\n",
    "\n",
    "Jednou z důležitých aplikací shlukování je **segmentace zákazníků** (angl. **customer segmentation**). \n",
    "\n",
    "Předpokládejme, že máme následující obchodní údaje o prodejích (resp. nákupech z pohledu zákazníků):\n",
    "TransactionID - ID nákupu,\n",
    "CustomerID - ID zákazníka, \n",
    "Date - datum nákupu, \n",
    "Total - celková cena nákupu.\n",
    "\n",
    "Chceme najít segmenty zákazníků, kteří se chovají podobně. K tomu je dobré informace z jednotlivých nákupů pro individuální zákazníky agregovat. Tj. získat pro každého zákazníka jeden řádek.\n",
    "\n",
    "Populárním přístupem je **RFM**, což znamená:\n",
    "\n",
    "- **R**ecency: Počet dnů od posledního nákupu (poslední datum v datasetu pro daného zákazníka).\n",
    "    - Počet dnů počítejte ke dni uskutečnění poslendní transakce v celém datasetu (tj. 12/19/2015), nikoli k dnešku. Tváříme se, že jde o aktuální data.\n",
    "- **F**requency: Počet nákupů. Občas se vynechávají zákazníci s jediným nákupem. Pro jednoduchost je zde ale necháme.\n",
    "- **M**onetary: Celková suma, kterou daný zákazník utratil.\n",
    "\n",
    "## Zdroj dat\n",
    "Budeme pracovat s daty z jednoho (skoro) vymyšleného eshopu:"
   ]
  },
  {
   "cell_type": "code",
   "execution_count": null,
   "metadata": {},
   "outputs": [],
   "source": [
    "import pandas as pd\n",
    "import numpy as np\n",
    "import matplotlib.pyplot as plt"
   ]
  },
  {
   "cell_type": "code",
   "execution_count": null,
   "metadata": {},
   "outputs": [],
   "source": [
    "df = pd.read_csv(\"eshop.csv\")"
   ]
  },
  {
   "cell_type": "code",
   "execution_count": null,
   "metadata": {},
   "outputs": [],
   "source": [
    "df.head()"
   ]
  },
  {
   "cell_type": "markdown",
   "metadata": {},
   "source": [
    "## Pokyny k vypracování\n",
    "\n",
    "**Základní body zadání**, za jejichž (poctivé) vypracování získáte **8 bodů**:\n",
    "- Vytvořte `rfm` data frame, kde každý řádek odpovídá jednomu zákazníkovi a sloupce (příznaky) jsou uvedené výše.\n",
    "- Pomocí algoritmu `K-means` proveďte shlukování. Nějakým způsobem také odhadněte nejlepší počet shluků (podrobně vysvětlete).\n",
    "- Zabývejte se vlivem přeškálování dat (standardizace příznaků). Tj. určete, zda je přeškálování vhodné, a proveďte ho.\n",
    "- Interpretujte jednotlivé shluky. Použijte získané shluky k odlišení \"superstar\" zákazníků (vysoká monetary, vysoká frequency a nízká recency) od nezajímavých  zákazníků (vysoká recency, nízká frequency, nízká monetary).\n",
    "\n",
    "**Další body zadání** za případné další body  (můžete si vybrat, maximum bodů za úkol je každopádně 12 bodů):\n",
    "- (až +4 body) Proveďte analýzu vytvořených shluků pomocí metody silhouette (https://en.wikipedia.org/wiki/Silhouette_(clustering)).\n",
    "- (až +4 body) Zkuste provést to samé s modifikovanou verzí **RFM**, kde Recency = \"maximum počtu měsíců od posledního nákupu a čísla 1\", Frequency = \"maximum počtu nákupů daného zákazníka v posledních 12 měsících a čísla 1\", Monetary = \"Nejvyšší hodnota nákupu daného zákazníka\". Porovnejte s původním přístupem.\n",
    "\n",
    "## Poznámky k odevzdání\n",
    "\n",
    "  * Řiďte se pokyny ze stránky https://courses.fit.cvut.cz/BI-VZD/homeworks/index.html.\n",
    "  * Odevzdejte Jupyter Notebook.\n",
    "  * Ke komentování toho, co v notebooku děláte, použijte Markdown buňky.\n",
    "  * Opravující Vám může umožnit úkol dodělat či opravit a získat tak další body. První verze je ale důležitá a bude-li odbytá, budete za to penalizováni\n",
    "  \n"
   ]
  },
  {
   "cell_type": "code",
   "execution_count": null,
   "metadata": {},
   "outputs": [],
   "source": []
  }
 ],
 "metadata": {
  "kernelspec": {
   "display_name": "Python 3",
   "language": "python",
   "name": "python3"
  },
  "language_info": {
   "codemirror_mode": {
    "name": "ipython",
    "version": 3
   },
   "file_extension": ".py",
   "mimetype": "text/x-python",
   "name": "python",
   "nbconvert_exporter": "python",
   "pygments_lexer": "ipython3",
   "version": "3.6.8"
  }
 },
 "nbformat": 4,
 "nbformat_minor": 4
}
